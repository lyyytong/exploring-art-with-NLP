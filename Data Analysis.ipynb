{
 "metadata": {
  "language_info": {
   "codemirror_mode": {
    "name": "ipython",
    "version": 3
   },
   "file_extension": ".py",
   "mimetype": "text/x-python",
   "name": "python",
   "nbconvert_exporter": "python",
   "pygments_lexer": "ipython3",
   "version": "3.8.5"
  },
  "orig_nbformat": 2,
  "kernelspec": {
   "name": "python385jvsc74a57bd017fb5a5565453b67c0b59bde5ea6656bb8b0cbe3e47e88b6ad304cf567bf57f1",
   "display_name": "Python 3.8.5 64-bit ('base': conda)"
  }
 },
 "nbformat": 4,
 "nbformat_minor": 2,
 "cells": [
  {
   "cell_type": "code",
   "execution_count": 1,
   "metadata": {},
   "outputs": [],
   "source": [
    "import pandas as pd\n",
    "import seaborn as sns\n",
    "import matplotlib.pyplot as plt\n",
    "plt.style.use('seaborn-pastel')"
   ]
  },
  {
   "cell_type": "code",
   "execution_count": 2,
   "metadata": {},
   "outputs": [],
   "source": [
    "df = pd.read_csv('/Users/lysmacbookpro/Desktop/CS Work/W11-12 Final Project/Artemis Official Data/artemis_dataset_release_v0.csv')"
   ]
  },
  {
   "cell_type": "code",
   "execution_count": 3,
   "metadata": {},
   "outputs": [
    {
     "output_type": "execute_result",
     "data": {
      "text/plain": [
       "                 art_style                                           painting  \\\n",
       "0       Post_Impressionism  vincent-van-gogh_portrait-of-madame-ginoux-l-a...   \n",
       "1       Post_Impressionism  vincent-van-gogh_portrait-of-madame-ginoux-l-a...   \n",
       "2       Post_Impressionism  vincent-van-gogh_portrait-of-madame-ginoux-l-a...   \n",
       "3       Post_Impressionism  vincent-van-gogh_portrait-of-madame-ginoux-l-a...   \n",
       "4       Post_Impressionism  vincent-van-gogh_portrait-of-madame-ginoux-l-a...   \n",
       "...                    ...                                                ...   \n",
       "454679              Cubism                           gino-severini_a-dancer-1   \n",
       "454680         Romanticism                  ivan-aivazovsky_sea-at-night-1861   \n",
       "454681         Romanticism                  ivan-aivazovsky_sea-at-night-1861   \n",
       "454682         Romanticism                  ivan-aivazovsky_sea-at-night-1861   \n",
       "454683              Cubism                      joan-miro_not_detected_227963   \n",
       "\n",
       "               emotion                                          utterance  \\\n",
       "0       something else  She seems very happy in the picture, and you w...   \n",
       "1              sadness  This woman has really knotty hands which makes...   \n",
       "2       something else  When looking at this woman, I am filled with c...   \n",
       "3          contentment  A woman looking at ease, peaceful, and satisfi...   \n",
       "4                  awe  She looks like a lady from that past that migh...   \n",
       "...                ...                                                ...   \n",
       "454679             awe  the collection and collage of different colors...   \n",
       "454680             awe  The peaceful reflections of the moonlight on t...   \n",
       "454681      excitement  I can imagine the sailors resting this peacefu...   \n",
       "454682     contentment  The steep mountains and the moonlight provide ...   \n",
       "454683            fear  If you look at the colors individually they ar...   \n",
       "\n",
       "        repetition  \n",
       "0               10  \n",
       "1               10  \n",
       "2               10  \n",
       "3               10  \n",
       "4               10  \n",
       "...            ...  \n",
       "454679          48  \n",
       "454680           8  \n",
       "454681           8  \n",
       "454682           8  \n",
       "454683          10  \n",
       "\n",
       "[454684 rows x 5 columns]"
      ],
      "text/html": "<div>\n<style scoped>\n    .dataframe tbody tr th:only-of-type {\n        vertical-align: middle;\n    }\n\n    .dataframe tbody tr th {\n        vertical-align: top;\n    }\n\n    .dataframe thead th {\n        text-align: right;\n    }\n</style>\n<table border=\"1\" class=\"dataframe\">\n  <thead>\n    <tr style=\"text-align: right;\">\n      <th></th>\n      <th>art_style</th>\n      <th>painting</th>\n      <th>emotion</th>\n      <th>utterance</th>\n      <th>repetition</th>\n    </tr>\n  </thead>\n  <tbody>\n    <tr>\n      <th>0</th>\n      <td>Post_Impressionism</td>\n      <td>vincent-van-gogh_portrait-of-madame-ginoux-l-a...</td>\n      <td>something else</td>\n      <td>She seems very happy in the picture, and you w...</td>\n      <td>10</td>\n    </tr>\n    <tr>\n      <th>1</th>\n      <td>Post_Impressionism</td>\n      <td>vincent-van-gogh_portrait-of-madame-ginoux-l-a...</td>\n      <td>sadness</td>\n      <td>This woman has really knotty hands which makes...</td>\n      <td>10</td>\n    </tr>\n    <tr>\n      <th>2</th>\n      <td>Post_Impressionism</td>\n      <td>vincent-van-gogh_portrait-of-madame-ginoux-l-a...</td>\n      <td>something else</td>\n      <td>When looking at this woman, I am filled with c...</td>\n      <td>10</td>\n    </tr>\n    <tr>\n      <th>3</th>\n      <td>Post_Impressionism</td>\n      <td>vincent-van-gogh_portrait-of-madame-ginoux-l-a...</td>\n      <td>contentment</td>\n      <td>A woman looking at ease, peaceful, and satisfi...</td>\n      <td>10</td>\n    </tr>\n    <tr>\n      <th>4</th>\n      <td>Post_Impressionism</td>\n      <td>vincent-van-gogh_portrait-of-madame-ginoux-l-a...</td>\n      <td>awe</td>\n      <td>She looks like a lady from that past that migh...</td>\n      <td>10</td>\n    </tr>\n    <tr>\n      <th>...</th>\n      <td>...</td>\n      <td>...</td>\n      <td>...</td>\n      <td>...</td>\n      <td>...</td>\n    </tr>\n    <tr>\n      <th>454679</th>\n      <td>Cubism</td>\n      <td>gino-severini_a-dancer-1</td>\n      <td>awe</td>\n      <td>the collection and collage of different colors...</td>\n      <td>48</td>\n    </tr>\n    <tr>\n      <th>454680</th>\n      <td>Romanticism</td>\n      <td>ivan-aivazovsky_sea-at-night-1861</td>\n      <td>awe</td>\n      <td>The peaceful reflections of the moonlight on t...</td>\n      <td>8</td>\n    </tr>\n    <tr>\n      <th>454681</th>\n      <td>Romanticism</td>\n      <td>ivan-aivazovsky_sea-at-night-1861</td>\n      <td>excitement</td>\n      <td>I can imagine the sailors resting this peacefu...</td>\n      <td>8</td>\n    </tr>\n    <tr>\n      <th>454682</th>\n      <td>Romanticism</td>\n      <td>ivan-aivazovsky_sea-at-night-1861</td>\n      <td>contentment</td>\n      <td>The steep mountains and the moonlight provide ...</td>\n      <td>8</td>\n    </tr>\n    <tr>\n      <th>454683</th>\n      <td>Cubism</td>\n      <td>joan-miro_not_detected_227963</td>\n      <td>fear</td>\n      <td>If you look at the colors individually they ar...</td>\n      <td>10</td>\n    </tr>\n  </tbody>\n</table>\n<p>454684 rows × 5 columns</p>\n</div>"
     },
     "metadata": {},
     "execution_count": 3
    }
   ],
   "source": [
    "df"
   ]
  },
  {
   "cell_type": "code",
   "execution_count": null,
   "metadata": {},
   "outputs": [],
   "source": []
  }
 ]
}